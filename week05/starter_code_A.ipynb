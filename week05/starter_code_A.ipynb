{
 "cells": [
  {
   "cell_type": "code",
   "execution_count": 1,
   "metadata": {},
   "outputs": [],
   "source": [
    "import numpy as np\n",
    "import pandas as pd\n",
    "import matplotlib.pyplot as plt\n",
    "%matplotlib inline"
   ]
  },
  {
   "cell_type": "markdown",
   "metadata": {},
   "source": [
    "### read the raw data"
   ]
  },
  {
   "cell_type": "code",
   "execution_count": 22,
   "metadata": {},
   "outputs": [
    {
     "name": "stdout",
     "output_type": "stream",
     "text": [
      "term          object\n",
      "definition    object\n",
      "ml              bool\n",
      "dtype: object\n",
      "               term                                         definition    ml\n",
      "0  machine learning  Automatic or semi-automatic updating of equati...  True\n",
      "1  machine learning  A method to train a machine(any kind) in a hum...  True\n",
      "2  machine learning  Pattern recognition through a set of constantl...  True\n",
      "3  machine learning  Machine learning is a predictive computational...  True\n",
      "4  machine learning  Machine learning is the development of functio...  True\n",
      "5  machine learning  Machine learning is the application of algorit...  True\n",
      "6  machine learning  A process where algorithms, paired with data, ...  True\n",
      "7  machine learning                     Algorithms that can be trained  True\n",
      "8  machine learning  Machine Learning describes algorithms that can...  True\n",
      "9  machine learning             Introducing an algorithm to a machine   True\n"
     ]
    }
   ],
   "source": [
    "data = pd.read_csv('definitions23.csv', encoding='latin1')\n",
    "\n",
    "# create a boolean indicator =True if the definition is of \"machine learning\"\n",
    "data['ml'] = data['term'] == 'machine learning'\n",
    "\n",
    "print(data.dtypes)\n",
    "print(data.head(10))"
   ]
  },
  {
   "cell_type": "markdown",
   "metadata": {},
   "source": [
    "### <span style=\"color:red\">create feature set X (matrix) and vector of labels L</span>\n",
    "\n",
    "Use [feature extraction methods in scikit-learn](http://scikit-learn.org/stable/modules/feature_extraction.html#text-feature-extraction) to *vectorize* the text of machine learning/AI definitions into an X matrix. "
   ]
  },
  {
   "cell_type": "code",
   "execution_count": 23,
   "metadata": {},
   "outputs": [
    {
     "name": "stdout",
     "output_type": "stream",
     "text": [
      "(267, 1076)\n"
     ]
    }
   ],
   "source": [
    "from sklearn.feature_extraction.text import CountVectorizer\n",
    "\n",
    "L = data[\"ml\"] # labels\n",
    "corpus = data['definition'] # corpus of reviews in words\n",
    "vectorizer = CountVectorizer(stop_words=[\"machine\", \"learning\"])\n",
    "X = vectorizer.fit_transform(corpus)\n",
    "print(X.shape)"
   ]
  },
  {
   "cell_type": "markdown",
   "metadata": {},
   "source": [
    "### let's look at the words in the corpus of \"definition\""
   ]
  },
  {
   "cell_type": "code",
   "execution_count": 24,
   "metadata": {},
   "outputs": [
    {
     "name": "stdout",
     "output_type": "stream",
     "text": [
      "1076\n",
      "* * * * *\n",
      "{'automatic': 80, 'or': 646, 'semi': 821, 'updating': 1008, 'of': 631, 'equations': 304, 'parameters': 670, 'using': 1017, 'algorithms': 38, 'automated': 79, 'parameter': 669, 'curve': 214, 'response': 793, 'surface': 906, 'fitting': 353, 'method': 574, 'to': 970, 'train': 977, 'any': 55, 'kind': 498, 'in': 445, 'human': 426, 'manner': 558, 'achieve': 12, 'the': 941, 'goal': 384, 'copying': 197, 'behavior': 98, 'even': 308, 'better': 108, 'than': 938, 'regular': 776, 'being': 101, 'pattern': 675, 'recognition': 765, 'through': 964, 'set': 830, 'constantly': 191, 'modifying': 591, 'rules': 804, 'is': 487, 'predictive': 707, 'computational': 183, 'based': 90, 'on': 635, 'training': 979, 'model': 586, 'ml': 584, 'algorithm': 36, 'data': 218, 'followed': 356, 'by': 127, 'an': 46, 'optimization': 645, 'process': 718, 'whereby': 1047, 'tested': 936, 'with': 1059, 'test': 935, 'increase': 448, 'accuracy': 10, 'prediction': 705, 'development': 246, 'functions': 367, 'made': 547, 'patterns': 676, 'found': 359, 'application': 58, 'sort': 869, 'and': 51, 'categorize': 144, 'supervised': 903, 'unsupervised': 1004, 'it': 488, 'way': 1034, 'comb': 170, 'large': 512, 'sets': 831, 'very': 1026, 'quickly': 750, 'reduce': 771, 'labor': 510, 'where': 1046, 'paired': 668, 'can': 134, 'be': 92, 'trained': 978, 'perform': 679, 'useful': 1013, 'function': 366, 'that': 939, 'describes': 237, 'find': 348, 'introducing': 482, 'computer': 185, 'systems': 915, 'understand': 1000, 'recognize': 766, 'real': 760, 'world': 1065, 'aggregating': 30, 'information': 456, 'order': 647, 'generate': 374, 'synthesize': 910, 'new': 614, 'insights': 465, 'program': 724, 'complete': 178, 'certain': 146, 'tasks': 921, 'automatically': 81, 'having': 408, 'learn': 516, 'get': 378, 'at': 74, 'recognizing': 767, 'such': 899, 'how': 423, 'react': 756, 'solve': 859, 'those': 960, 'situations': 848, 'subset': 896, 'practice': 699, 'artificial': 63, 'intelligence': 469, 'which': 1049, 'improves': 442, 'ingesting': 458, 'computers': 186, 'making': 553, 'decisions': 225, 'inputs': 462, 'ability': 4, 'for': 357, 'identify': 431, 'something': 864, 'groups': 393, 'been': 94, 'whether': 1048, 'visual': 1030, 'language': 511, 'creating': 204, 'teach': 923, 'programmable': 726, 'processes': 719, 'used': 1012, 'classify': 159, 'various': 1024, 'kinds': 499, 'images': 434, 'numbers': 625, 'text': 937, 'etc': 307, 'about': 6, 'object': 626, 'criteria': 209, 'given': 382, 'task': 920, 'when': 1045, 'provided': 739, 'examples': 314, 'performance': 680, 'measures': 572, 'make': 551, 'predictions': 706, 'let': 522, 'read': 759, 'lot': 542, 'conclude': 187, 'itself': 492, 'then': 944, 'encounter': 292, 'deal': 223, 'some': 861, 'are': 60, 'skill': 850, 'machines': 545, 'take': 917, 'statements': 881, 'see': 817, 'things': 954, 'taught': 922, 'them': 943, 'do': 260, 'translating': 981, 'creation': 205, 'intelligent': 470, 'reduces': 772, 'errors': 306, 'most': 594, 'times': 968, 'makes': 552, 'tedious': 929, 'easier': 274, 'us': 1010, 'able': 5, 'adapt': 18, 'they': 950, 'programmed': 727, 'applying': 59, 'amount': 45, 'meaningful': 569, 'output': 660, 'from': 363, 'datasets': 221, 'so': 855, 'similar': 844, 'other': 653, 'could': 200, 'people': 677, 'statistics': 884, 'filtering': 346, 'system': 913, 'distinguishes': 259, 'technology': 928, 'work': 1064, 'run': 805, 'under': 998, 'logic': 539, 'era': 305, 'weak': 1036, 'ai': 33, 'finish': 350, 'single': 847, 'also': 43, 'multi': 600, 'same': 808, 'time': 967, 'computation': 182, 'allows': 42, 'inferences': 453, 'known': 508, 'historical': 418, 'unique': 1002, 'input': 461, 'definition': 230, 'success': 897, 'but': 126, 'has': 406, 'flexibility': 354, 'defining': 229, 'gets': 379, 'successful': 898, 'solution': 857, 'its': 491, 'masses': 561, 'this': 958, 'past': 673, 'points': 689, 'outcomes': 658, 'predict': 702, 'future': 371, 'ones': 638, 'calculating': 128, 'you': 1072, 'likely': 529, 'interested': 478, 'your': 1075, 'history': 419, 'via': 1028, 'algorithmic': 37, 'processing': 720, 'digital': 255, 'means': 570, 'explore': 326, 'collect': 165, 'define': 227, 'models': 589, 'help': 413, 'suggestions': 900, 'commonalities': 175, 'these': 949, 'encounters': 293, 'we': 1035, 'beings': 102, 'teaching': 924, 'statistic': 882, 'experiments': 324, 'problems': 716, 'smart': 852, 'classification': 157, 'analysis': 47, 'organization': 651, 'type': 992, 'done': 267, 'statistical': 883, 'modeling': 588, 'generated': 375, 'learned': 517, 'self': 820, 'previous': 711, 'existing': 320, 'mainly': 549, 'big': 111, 'source': 871, 'predictability': 703, 'experience': 322, 'usually': 1018, 'use': 1011, 'techniques': 926, 'facilitating': 334, 'selection': 819, 'service': 829, 'extracting': 330, 'target': 919, 'features': 337, 'descriptive': 238, 'routines': 803, 'assess': 69, 'sample': 809, 'try': 990, 'general': 372, 'population': 691, 'learns': 518, 'code': 162, 'eliminating': 282, 'need': 609, 'hardcoding': 405, 'everything': 312, 'programm': 725, 'taking': 918, 'sum': 901, 'mostly': 595, 'created': 203, 'curated': 211, 'finding': 349, 'own': 666, 'between': 109, 'individual': 450, 'samples': 810, 'ultimately': 996, 'coming': 174, 'up': 1005, 'might': 575, 'not': 620, 'sense': 822, 'generally': 373, 'comes': 173, 'different': 250, 'thought': 961, 'humans': 429, 'have': 407, 'giving': 383, 'agency': 27, 'evolve': 313, 'over': 663, 'efficiency': 277, 'safety': 807, 'higher': 415, 'quality': 747, 'pursuit': 744, 'inorganic': 460, 'entity': 302, 'goals': 385, 'improvise': 444, 'pathways': 674, 'attain': 76, 'mathematical': 563, 'occur': 630, 'software': 856, 'allow': 40, 'programs': 729, 'change': 147, 'outputs': 661, 'calibration': 130, 'experiences': 323, 'ubiquitous': 994, 'presence': 708, 'intuitive': 483, 'starts': 880, 'me': 566, 'as': 64, 'aid': 34, 'tool': 974, 'much': 599, 'like': 528, 'invention': 484, 'wheel': 1043, 'changed': 148, 'life': 527, 'our': 655, 'ancestors': 50, 'knew': 505, 'changing': 149, 'know': 506, 'base': 89, 'study': 893, 'providing': 741, 'special': 873, 'iteration': 489, 'think': 955, 'quantitative': 748, 'descions': 235, 'cognition': 164, 'inform': 454, 'next': 615, 'action': 16, 'manipulate': 557, 'purpose': 743, 'analyzing': 49, 'result': 795, 'synthetically': 912, 'adjusting': 21, 'behaviors': 99, 'mistakes': 582, 'reach': 755, 'desired': 241, 'outcome': 657, 'series': 827, 'procedures': 717, 'produce': 721, 'understanding': 1001, 'predicting': 704, 'defined': 228, 'domain': 263, 'results': 796, 'came': 133, 'out': 656, 'ordered': 648, 'algorism': 35, 'infer': 452, 'meaning': 568, 'form': 358, 'knowledge': 507, 'user': 1014, 'improve': 440, 'initial': 459, 'believed': 104, 'born': 115, 'natural': 606, 'if': 433, 'will': 1057, 'led': 519, 'build': 122, 'devices': 248, 'were': 1040, 'theorized': 945, 'act': 13, 'their': 942, 'behalf': 96, 'got': 390, 'really': 762, 'sophisticated': 867, 'eventually': 310, 'carry': 139, 'internally': 479, 'without': 1061, 'needing': 610, 'routine': 802, 'check': 152, 'ins': 464, 'outside': 662, 'collecting': 167, 'informations': 457, 'executing': 317, 'independently': 449, 'would': 1066, 'what': 1041, 'call': 131, 'users': 1015, 'computations': 184, 'dataset': 220, 'figure': 344, 'all': 39, 'possibility': 694, 'answer': 53, 'questions': 749, 'great': 391, 'resources': 791, 'analyze': 48, 'trend': 985, 'end': 294, 'content': 193, 'had': 399, 'provides': 740, 'aggregated': 29, 'cycle': 217, 'identifying': 432, 'was': 1033, 'inputted': 463, 'move': 597, 'repeated': 786, 'neural': 612, 'network': 611, 'provide': 738, 'includes': 446, 'collection': 168, 'labeling': 509, 'adjustment': 22, 'deployment': 234, 'written': 1067, 'operate': 641, 'wide': 1055, 'range': 751, 'pushing': 745, 'notifications': 621, 'facial': 333, 'trends': 986, 'weather': 1038, 'normally': 618, 'now': 622, 'easily': 275, 'systematically': 914, 'enabling': 290, 'feeding': 339, 'imitate': 437, 'intelligently': 471, 'once': 636, 'collected': 166, 'capability': 136, 'my': 603, 'happens': 404, 'huge': 425, 'thereby': 947, 'detects': 245, 'within': 1060, 'recommend': 768, 'prompts': 734, 'basic': 91, 'year': 1069, 'old': 633, 'into': 481, 'smarter': 853, 'more': 593, 'accurate': 11, 'gone': 387, 'potential': 695, 'steps': 886, 'telling': 931, 'continual': 195, 'particular': 672, 'acting': 15, 'prior': 713, 'interacted': 474, 'assumptions': 73, 'generative': 377, 'supported': 904, 'underlying': 999, 'framework': 362, 'advanced': 24, 'recommendation': 769, 'complicated': 180, 'mimics': 578, 'thinks': 957, 'thinking': 956, 'route': 801, 'tries': 987, 'emulate': 287, 'enough': 299, 'chose': 155, 'previously': 712, 'brain': 118, 'producing': 722, 'solutions': 858, 'mimic': 576, 'best': 107, 'case': 141, 'scenario': 814, 'designed': 239, 'enhance': 297, 'autonomous': 83, 'reinforcing': 778, 'capable': 137, 'originated': 652, 'non': 617, 'linear': 533, 'updated': 1007, 'complex': 179, 'umbrella': 997, 'term': 933, 'subgenres': 894, 'one': 637, 'destination': 242, 'actually': 17, 'create': 202, 'potentially': 696, 'access': 8, 'allowing': 41, 'man': 556, 'builds': 124, 'throughout': 965, 'pretends': 710, 'brains': 119, 'main': 548, 'ultimate': 995, 'whatever': 1042, 'true': 989, 'conscious': 189, 'unobserved': 1003, 'mean': 567, 'phrase': 685, 'good': 388, 'marketing': 560, 'attempts': 78, 'problem': 715, 'modeled': 587, 'after': 26, 'mind': 579, 'show': 839, 'exhibit': 318, 'group': 392, 'ask': 66, 'repetitive': 787, 'may': 564, 'creative': 206, 'customer': 215, 'currently': 213, 'differently': 252, 'depending': 233, 'who': 1054, 'refers': 774, 'creatively': 207, 'modify': 590, 'including': 447, 'adapted': 19, 'come': 172, 'decision': 224, 'setting': 832, 'someone': 863, 'relevant': 782, 'older': 634, 'sibling': 840, 'highly': 416, 'virtual': 1029, 'robot': 798, 'handle': 403, 'later': 514, 'terms': 934, 'interchangeably': 477, 'final': 347, 'solving': 860, 'presented': 709, 'calibrated': 129, 'variabled': 1022, 'structures': 892, 'progressively': 730, 'refines': 775, 'corrects': 198, 'each': 271, 'subsequent': 895, 'piece': 686, 'technological': 927, 'enabled': 289, 'prompted': 733, 'acted': 14, 'humane': 428, 'characteristic': 151, 'imagine': 436, 'entities': 301, 'larger': 513, 'backed': 87, 'science': 815, 'went': 1039, 'above': 7, 'beyond': 110, 'objects': 627, 'expand': 321, 'respond': 792, 'explicit': 325, 'instruction': 467, 'several': 833, 'aspirational': 68, 'projects': 731, 'current': 212, 'constitute': 192, 'narrow': 605, 'agi': 31, 'aspiration': 67, 'emulation': 288, 'superintelligence': 902, 'asi': 65, 'enterprise': 300, 'exceeding': 315, 'however': 424, 'there': 946, 'does': 261, 'exist': 319, 'consensus': 190, 'precise': 701, 'comparative': 177, 'definitions': 231, 'difficult': 253, 'combined': 171, 'reinforced': 777, 'improved': 441, 'synonymous': 909, 'many': 559, 'cases': 142, 'differentiate': 251, 'say': 812, 'composition': 181, 'simulate': 845, 'interaction': 475, 'requires': 789, 'level': 523, 'synthetic': 911, 'reacts': 758, 'grow': 394, 'library': 524, 'behave': 97, 'emotionally': 284, 'programming': 728, 'responses': 794, 'number': 624, 'surpass': 907, 'adaptive': 20, 'abilities': 3, 'power': 697, 'signify': 843, 'opinion': 643, 'assistant': 71, 'fields': 343, 'deliberately': 232, 'trigger': 988, 'specific': 874, 'behaviour': 100, 'reactions': 757, 'realm': 763, 'rather': 753, 'probably': 714, 'describe': 236, 'yet': 1071, 'somehow': 862, 'still': 888, 'possess': 693, 'pre': 700, 'accord': 9, 'thing': 953, 'operating': 642, 'instructions': 468, 'intervention': 480, 'technique': 925, 'attempt': 77, 'occasionally': 629, 'mixed': 583, 'jumbled': 495, 'seen': 818, 'believe': 103, 'foundation': 360, 'upon': 1009, 'built': 125, 'both': 116, 'belong': 105, 'branch': 120, 'automation': 82, 'thoroughly': 959, 'multiple': 601, 'facets': 332, 'interact': 473, 'back': 86, 'utilized': 1019, 'fulfill': 364, 'person': 681, 'utilizing': 1020, 'educate': 276, 'thus': 966, 'improving': 443, 'implement': 438, 'update': 1006, 'living': 538, 'organisms': 650, 'animal': 52, 'plants': 687, 'fungi': 368, 'posses': 692, 'machining': 546, 'building': 123, 'humanbeings': 427, 'powers': 698, 'idea': 430, 'judgements': 494, 'literably': 535, 'capacity': 138, 'reasonable': 764, 'correlation': 199, 'database': 219, 'deep': 226, 'structure': 891, 'efficient': 278, 'maybe': 565, 'assist': 70, 'interacts': 476, 'overarching': 664, 'falls': 336, 'give': 381, 'intention': 472, 'generating': 376, 'therefore': 948, 'product': 723, 'nowadays': 623, 'represent': 788, 'expression': 328, 'emotion': 283, 'classified': 158, 'answers': 54, 'fed': 338, 'iterations': 490, 'variety': 1023, 'events': 309, 'uses': 1016, 'conduct': 188, 'mimicking': 577, 'every': 311, 'continues': 196, 'reality': 761, 'imported': 439, 'raw': 754, 'materials': 562, 'latter': 515, 'rely': 783, 'desirable': 240, 'no': 616, 'relatively': 781, 'high': 414, 'rate': 752, 'communicate': 176, 'store': 889, 'enormous': 298, 'won': 1062, 'remember': 784, 'pull': 742, 'just': 496, 'don': 266, 'whiskers': 1051, 'kitty': 503, 'cat': 143, 'sounds': 870, 'name': 604, 'cats': 145, 'python': 746, 'long': 541, 'hairs': 402, 'side': 841, 'nose': 619, 'aaron': 2, 'wrote': 1068, 'monitor': 592, 'his': 417, 'pet': 683, 'while': 1050, 'he': 409, 'away': 84, 'vacation': 1021, 'guess': 396, 'related': 780, 'outliers': 659, 'google': 389, 'translate': 980, 'translucent': 982, 'sometimes': 865, 'spiky': 876, 'threads': 962, 'around': 62, 'mouth': 596, 'area': 61, 'little': 536, 'cute': 216, 'face': 331, 'sure': 905, 'baby': 85, 'sensing': 823, 'environment': 303, 'specifically': 875, 'head': 410, 'body': 114, 'fit': 352, 'opening': 640, 'thick': 951, 'protrude': 736, 'young': 1073, 'lil': 531, 'feline': 341, 'sensors': 825, 'width': 1056, 'perception': 678, 'device': 247, 'kitties': 502, 'wispy': 1058, 'white': 1053, 'clear': 160, 'dont': 268, 'kitten': 500, 'drinking': 269, 'whiskey': 1052, 'running': 806, 'drunk': 270, 'external': 329, 'sensory': 826, 'organ': 649, 'hair': 401, 'sensitive': 824, 'detection': 244, 'search': 816, 'mmmm': 585, 'sorry': 868, 'diminutive': 256, 'infant': 451, 'part': 671, 'resemble': 790, 'heard': 411, 'today': 971, 'first': 351, 'protector': 735, 'lines': 534, 'chicks': 154, 'black': 112, 'thin': 952, 'fall': 335, 'symmetrical': 908, 'left': 520, 'right': 797, 'kittyõs': 504, 'growing': 395, 'near': 608, 'kittens': 501, 'beating': 93, 'eggs': 279, 'feelers': 340, 'spokes': 878, 'spoke': 877, 'attached': 75, 'wheels': 1044, 'going': 386, 'limitations': 532, 'strands': 890, 'guessing': 397, 'early': 272, 'before': 95, 'tell': 930, 'detect': 243, 'movements': 598, 'spaces': 872, 'navigational': 607, 'assume': 72, 'tools': 975, 'stear': 885, 'direction': 257, 'cheeks': 153, 'stiff': 887, 'belonging': 106, 'snout': 854, 'three': 963, 'either': 280, 'sides': 842, 'measure': 571, 'distance': 258, 'difficulty': 254, 'maintaining': 550, 'balance': 88, 'mustache': 602, 'pertains': 682, 'coding': 163, 'honestly': 421, '_do': 1, 'tree': 984, 'involves': 486, 'branching': 121, 'apart': 57, 'english': 296, 'although': 44, 'context': 194, 'class': 156, 'obviously': 628, 'dateset': 222, 'vexing': 1027, 'licking': 526, 'protrusions': 737, 'serve': 828, 'too': 973, 'fluffy': 355, 'lol': 540, 'saw': 811, 'shoulder': 838, 'few': 342, 'minutes': 580, 'ago': 32, 'vs': 1031, 'saying': 813, 'creature': 208, 'filled': 345, 'simultaneously': 846, 'mischief': 581, 'pointy': 690, 'cuddles': 210, 'mammals': 555, 'tip': 969, 'ears': 273, 'tail': 916, 'promises': 732, 'never': 613, 'die': 249, 'lick': 525, 'toes': 972, 'want': 1032, 'japanese': 493, 'cartoon': 140, 'character': 150, 'meow': 573, 'oh': 632, 'thats': 940, 'adorable': 23, 'lives': 537, 'home': 420, 'house': 422, 'roomate': 799, '__': 0, 'fun': 365, 'domesticated': 265, 'likes': 530, 'pets': 684, 'treats': 983, 'canõt': 135, 'relate': 779, 'anything': 56, 'otherwise': 654, 'small': 851, 'endearment': 295, 'opposed': 644, 'emotive': 285, 'element': 281, 'involved': 485, 'course': 201, 'domestic': 264, 'referring': 773, 'calling': 132, 'excitement': 316, 'mammal': 554, 'overlord': 665, 'four': 361, 'legged': 521, 'short': 837, 'fur': 369, 'sharp': 835, 'standing': 879, 'rounded': 800, 'gut': 398, 'tells': 932, 'repeat': 785, 'only': 639, 'clue': 161, 'haha': 400, 'size': 849, 'younger': 1074, 'ages': 28, 'hello': 412, 'girls': 380, 'love': 543, 'years': 1070, 'loving': 544, 'instead': 466, 'express': 327, 'affection': 25, 'towards': 976, 'shape': 834, 'wears': 1037, 'red': 770, 'bowknot': 117, 'color': 169, 'oxymoron': 667, 'word': 1063, 'informal': 455, 'version': 1025, 'emphasize': 286, 'kid': 497, 'song': 866, 'imaginary': 435, 'bodegas': 113, 'tv': 991, 'encompass': 291, 'dog': 262, 'she': 836, 'furry': 370, 'typically': 993, 'pointed': 688}\n"
     ]
    }
   ],
   "source": [
    "print(len(vectorizer.vocabulary_))\n",
    "print(\"* * * * *\")\n",
    "print(vectorizer.vocabulary_)"
   ]
  },
  {
   "cell_type": "markdown",
   "metadata": {},
   "source": [
    "### <span style=\"color:red\">fit X, L to SVM using gradient descent</span>\n",
    "\n",
    "[gradient descent documentation](http://scikit-learn.org/stable/modules/generated/sklearn.linear_model.SGDClassifier.html)"
   ]
  },
  {
   "cell_type": "code",
   "execution_count": 32,
   "metadata": {},
   "outputs": [
    {
     "data": {
      "text/plain": [
       "SGDClassifier(alpha=0.0001, average=False, class_weight=None,\n",
       "              early_stopping=False, epsilon=0.1, eta0=0.0, fit_intercept=True,\n",
       "              l1_ratio=0.15, learning_rate='optimal', loss='hinge',\n",
       "              max_iter=1000, n_iter_no_change=5, n_jobs=None, penalty='l2',\n",
       "              power_t=0.5, random_state=None, shuffle=True, tol=0.001,\n",
       "              validation_fraction=0.1, verbose=0, warm_start=False)"
      ]
     },
     "execution_count": 32,
     "metadata": {},
     "output_type": "execute_result"
    }
   ],
   "source": [
    "# fit SVM linear classifier\n",
    "from sklearn import linear_model\n",
    "sgd = linear_model.SGDClassifier()\n",
    "sgd.fit(X, L)"
   ]
  },
  {
   "cell_type": "markdown",
   "metadata": {},
   "source": [
    "### assess performance"
   ]
  },
  {
   "cell_type": "code",
   "execution_count": 33,
   "metadata": {},
   "outputs": [
    {
     "name": "stdout",
     "output_type": "stream",
     "text": [
      "{'Pos': 88, 'Neg': 179, 'TP': 88, 'TN': 179, 'FP': 0, 'FN': 0, 'Accuracy': 1.0, 'Precision': 1.0, 'Recall': 1.0, 'desc': 'sgd'}\n"
     ]
    }
   ],
   "source": [
    "# look at performance measures\n",
    "import my_measures\n",
    "\n",
    "performance_measures = my_measures.BinaryClassificationPerformance(sgd.predict(X), L, 'sgd')\n",
    "performance_measures.compute_measures()\n",
    "print(performance_measures.performance_measures)"
   ]
  },
  {
   "cell_type": "markdown",
   "metadata": {},
   "source": [
    "![](https://upload.wikimedia.org/wikipedia/commons/thumb/2/26/Precisionrecall.svg/350px-Precisionrecall.svg.png)\n",
    "\n",
    "[source](https://en.wikipedia.org/wiki/Precision_and_recall)"
   ]
  },
  {
   "cell_type": "markdown",
   "metadata": {
    "collapsed": true
   },
   "source": [
    "### test model on unseen definitions"
   ]
  },
  {
   "cell_type": "code",
   "execution_count": 34,
   "metadata": {},
   "outputs": [
    {
     "name": "stdout",
     "output_type": "stream",
     "text": [
      "Machine learning is a field of computer science that gives computers the ability to learn without being explicitly programmed.\n",
      "* * *\n",
      "Machine learning is an application of artificial intelligence (AI) that provides systems the ability to automatically learn and improve from experience without being explicitly programmed. Machine learning focuses on the development of computer programs that can access data and use it learn for themselves.\n",
      "* * *\n",
      "Machine Learning is the science of getting computers to learn and act like humans do, and improve their learning over time in autonomous fashion, by feeding them data and information in the form of observations and real-world interactions.\n",
      "* * *\n"
     ]
    }
   ],
   "source": [
    "# machine learning definitions\n",
    "# Wikipedia, Expert System, Tech Emergence\n",
    "ml_defs = [\"Machine learning is a field of computer science that gives computers the ability to learn without being explicitly programmed.\",\n",
    "          \"Machine learning is an application of artificial intelligence (AI) that provides systems the ability to automatically learn and improve from experience without being explicitly programmed. Machine learning focuses on the development of computer programs that can access data and use it learn for themselves.\",\n",
    "          \"Machine Learning is the science of getting computers to learn and act like humans do, and improve their learning over time in autonomous fashion, by feeding them data and information in the form of observations and real-world interactions.\"]\n",
    "\n",
    "for d in ml_defs:\n",
    "    print(d)\n",
    "    print(\"* * *\")"
   ]
  },
  {
   "cell_type": "code",
   "execution_count": 35,
   "metadata": {},
   "outputs": [
    {
     "name": "stdout",
     "output_type": "stream",
     "text": [
      "Artificial intelligence (AI, also machine intelligence, MI) is intelligence demonstrated by machines, in contrast to the natural intelligence (NI) displayed by humans and other animals.\n",
      "* * *\n",
      "the theory and development of computer systems able to perform tasks that normally require human intelligence, such as visual perception, speech recognition, decision-making, and translation between languages\n",
      "* * *\n"
     ]
    }
   ],
   "source": [
    "# AI definitions\n",
    "# Wikipedia, Oxford dictionary\n",
    "ai_defs = [\"Artificial intelligence (AI, also machine intelligence, MI) is intelligence demonstrated by machines, in contrast to the natural intelligence (NI) displayed by humans and other animals.\",\n",
    "          \"the theory and development of computer systems able to perform tasks that normally require human intelligence, such as visual perception, speech recognition, decision-making, and translation between languages\"]\n",
    "\n",
    "for d in ai_defs:\n",
    "    print(d)\n",
    "    print(\"* * *\")"
   ]
  },
  {
   "cell_type": "code",
   "execution_count": 36,
   "metadata": {},
   "outputs": [
    {
     "name": "stdout",
     "output_type": "stream",
     "text": [
      "A kitten, also known as a kitty or kitty cat, is a juvenile cat.\n",
      "* * *\n",
      "The piano is an acoustic, stringed musical instrument invented in Italy by Bartolomeo Cristofori around the year 1700 in which the strings are struck by hammers.\n",
      "* * *\n",
      "a small gadget or mechanical device, especially one whose name is unknown or unspecified\n",
      "* * *\n"
     ]
    }
   ],
   "source": [
    "# Definitions of unrelated things: kitten, piano, widget\n",
    "other_defs = [\"A kitten, also known as a kitty or kitty cat, is a juvenile cat.\",\n",
    "             \"The piano is an acoustic, stringed musical instrument invented in Italy by Bartolomeo Cristofori around the year 1700 in which the strings are struck by hammers.\",\n",
    "             \"a small gadget or mechanical device, especially one whose name is unknown or unspecified\"]\n",
    "\n",
    "for d in other_defs:\n",
    "    print(d)\n",
    "    print(\"* * *\")"
   ]
  },
  {
   "cell_type": "markdown",
   "metadata": {},
   "source": [
    "### function to transform new definitions to a X vector"
   ]
  },
  {
   "cell_type": "code",
   "execution_count": 37,
   "metadata": {},
   "outputs": [],
   "source": [
    "def get_prediction(definition):\n",
    "    text_x = vectorizer.transform([definition]).toarray()\n",
    "    return(sgd.predict(text_x))"
   ]
  },
  {
   "cell_type": "markdown",
   "metadata": {},
   "source": [
    "### view predicted classifications of new definitions"
   ]
  },
  {
   "cell_type": "code",
   "execution_count": 38,
   "metadata": {},
   "outputs": [
    {
     "name": "stdout",
     "output_type": "stream",
     "text": [
      "Model predictions for 'machine learning' definitions:\n",
      "[False]\n",
      "[ True]\n",
      "[ True]\n",
      "* * *\n",
      "Model predictions for 'AI' definitions:\n",
      "[False]\n",
      "[False]\n",
      "* * *\n",
      "Model predictions for other definitions (kitten, piano, widget):\n",
      "[False]\n",
      "[ True]\n",
      "[False]\n"
     ]
    }
   ],
   "source": [
    "print(\"Model predictions for 'machine learning' definitions:\")\n",
    "for mld in ml_defs:\n",
    "    print(get_prediction(mld))\n",
    "    \n",
    "print(\"* * *\")\n",
    "print(\"Model predictions for 'AI' definitions:\")\n",
    "for aid in ai_defs:\n",
    "    print(get_prediction(aid))\n",
    "\n",
    "print(\"* * *\")\n",
    "print(\"Model predictions for other definitions (kitten, piano, widget):\")\n",
    "for otherd in other_defs:\n",
    "    print(get_prediction(otherd))"
   ]
  },
  {
   "cell_type": "code",
   "execution_count": null,
   "metadata": {},
   "outputs": [],
   "source": []
  },
  {
   "cell_type": "code",
   "execution_count": null,
   "metadata": {},
   "outputs": [],
   "source": []
  }
 ],
 "metadata": {
  "kernelspec": {
   "display_name": "Python 3",
   "language": "python",
   "name": "python3"
  },
  "language_info": {
   "codemirror_mode": {
    "name": "ipython",
    "version": 3
   },
   "file_extension": ".py",
   "mimetype": "text/x-python",
   "name": "python",
   "nbconvert_exporter": "python",
   "pygments_lexer": "ipython3",
   "version": "3.7.6"
  }
 },
 "nbformat": 4,
 "nbformat_minor": 1
}
